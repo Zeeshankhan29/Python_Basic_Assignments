{
 "cells": [
  {
   "cell_type": "code",
   "execution_count": null,
   "id": "a81bda03",
   "metadata": {},
   "outputs": [],
   "source": [
    "1. Why are functions advantageous to have in your programs?"
   ]
  },
  {
   "cell_type": "code",
   "execution_count": null,
   "id": "c08c80bf",
   "metadata": {},
   "outputs": [],
   "source": [
    "ANS:\n",
    "It is very tedious to write the same line of code again and again so we define \n",
    "functions in our program to acheive the given target.\n",
    "The some of the advantages of them are  listed below,\n",
    "1.Information hiding from others.\n",
    "2.Reuse of code.\n",
    "3.Reducing duplication of code.\n",
    "4.Time management since we are calling the same function which had been defined."
   ]
  },
  {
   "cell_type": "code",
   "execution_count": null,
   "id": "68317317",
   "metadata": {},
   "outputs": [],
   "source": [
    "2. When does the code in a function run: when it is specified or when it is called?"
   ]
  },
  {
   "cell_type": "code",
   "execution_count": null,
   "id": "0f277caf",
   "metadata": {},
   "outputs": [],
   "source": [
    "ANS:\n",
    "The code in a function runs  whenever we invoke it or call it.\n"
   ]
  },
  {
   "cell_type": "code",
   "execution_count": null,
   "id": "57f25ed0",
   "metadata": {},
   "outputs": [],
   "source": [
    "3. What statement creates a function?"
   ]
  },
  {
   "cell_type": "code",
   "execution_count": null,
   "id": "08bd5ae7",
   "metadata": {},
   "outputs": [],
   "source": [
    "ANS:\n",
    "The below is the statement which creates a function\n",
    "def test(a):\n",
    "    pass\n",
    "# here def is the keyword in python, where \"test\" is the name of the function \n",
    "# a is the argument enclosed within the parantheses ending with a semicolon."
   ]
  },
  {
   "cell_type": "code",
   "execution_count": null,
   "id": "48abd932",
   "metadata": {},
   "outputs": [],
   "source": [
    "4. What is the difference between a function and a function call?"
   ]
  },
  {
   "cell_type": "code",
   "execution_count": null,
   "id": "697fda01",
   "metadata": {},
   "outputs": [],
   "source": [
    "ANS:\n",
    "In Python its difficult to write the same code again and again so we use functions.\n",
    "Function is the set of procedure which is defined to acheive the certain target given,\n",
    "whereas Function call means calling a function which we had defined to acheive the target,\n",
    "unless and until a function is not called we cannot make use of that function which we had \n",
    "defined to acheive a certain target."
   ]
  },
  {
   "cell_type": "code",
   "execution_count": null,
   "id": "ffa638f1",
   "metadata": {},
   "outputs": [],
   "source": [
    "5. How many global scopes are there in a Python program? How many local scopes?"
   ]
  },
  {
   "cell_type": "code",
   "execution_count": null,
   "id": "02aae8cf",
   "metadata": {},
   "outputs": [],
   "source": [
    "ANS:\n",
    "Local variable is declared inside a function whereas Global variable is declared outside the function .\n",
    "Local variable is accesible only within the function whereas the Global variable is accessible throughout\n",
    "the program.\n",
    "There is one local and one Global variable available in Python.\n"
   ]
  },
  {
   "cell_type": "code",
   "execution_count": null,
   "id": "909cd383",
   "metadata": {},
   "outputs": [],
   "source": [
    "6. What happens to variables in a local scope when the function call returns?"
   ]
  },
  {
   "cell_type": "code",
   "execution_count": null,
   "id": "c3cc271e",
   "metadata": {},
   "outputs": [],
   "source": [
    "ANS:\n",
    "Whenever the function call returns the local variables are destroyed."
   ]
  },
  {
   "cell_type": "code",
   "execution_count": null,
   "id": "696db60a",
   "metadata": {},
   "outputs": [],
   "source": [
    "7. What is the concept of a return value? Is it possible to have a return value in an expression?"
   ]
  },
  {
   "cell_type": "code",
   "execution_count": null,
   "id": "5e1c3aee",
   "metadata": {},
   "outputs": [],
   "source": [
    "A return is a value that a function returns to the function when it completes its task.\n",
    "A return value can be any one of the four variable types: handle, integer, object, or string.\n",
    "The type of value your function returns depends largely on the task it performs.\n",
    "Yes it is possible to use return value in an expression.\n"
   ]
  },
  {
   "cell_type": "code",
   "execution_count": null,
   "id": "4b9166f2",
   "metadata": {},
   "outputs": [],
   "source": [
    "8. If a function does not have a return statement, what is the return value of a call to that function?"
   ]
  },
  {
   "cell_type": "code",
   "execution_count": null,
   "id": "f58addfa",
   "metadata": {},
   "outputs": [],
   "source": [
    "ANS:\n",
    "If a function doesnt have a return statement, we will either use print statement to get an output but \n",
    "print statement will give us the none type for which we cannot perform primitive opearations.Otherwise we will \n",
    "get an indented block error.\n",
    "\n",
    "# the execution is as shown below"
   ]
  },
  {
   "cell_type": "code",
   "execution_count": 8,
   "id": "0a8da2f8",
   "metadata": {},
   "outputs": [
    {
     "name": "stdout",
     "output_type": "stream",
     "text": [
      "56\n"
     ]
    }
   ],
   "source": [
    "a=int(input())\n",
    "def test1(a):\n",
    "    if a==int:\n",
    "        print(\"the value is \",a)\n",
    "    \n",
    "        "
   ]
  },
  {
   "cell_type": "code",
   "execution_count": 13,
   "id": "f5580008",
   "metadata": {},
   "outputs": [
    {
     "ename": "IndentationError",
     "evalue": "expected an indented block (Temp/ipykernel_14316/1366917394.py, line 3)",
     "output_type": "error",
     "traceback": [
      "\u001b[1;36m  File \u001b[1;32m\"C:\\Users\\hp\\AppData\\Local\\Temp/ipykernel_14316/1366917394.py\"\u001b[1;36m, line \u001b[1;32m3\u001b[0m\n\u001b[1;33m    if a==int:\u001b[0m\n\u001b[1;37m              ^\u001b[0m\n\u001b[1;31mIndentationError\u001b[0m\u001b[1;31m:\u001b[0m expected an indented block\n"
     ]
    }
   ],
   "source": [
    "a=int(input())\n",
    "def test1(a):\n",
    "    if a==int:"
   ]
  },
  {
   "cell_type": "code",
   "execution_count": null,
   "id": "c17954f1",
   "metadata": {},
   "outputs": [],
   "source": [
    "9. How do you make a function variable refer to the global variable?"
   ]
  },
  {
   "cell_type": "code",
   "execution_count": 17,
   "id": "3edd4148",
   "metadata": {},
   "outputs": [],
   "source": [
    "ANS:\n",
    "a=10\n",
    "def check(c,d):\n",
    "    return a+d\n",
    "# here the global variable is a=10,where the functions variable are c,d\n",
    "## when we are calling the function check the value of c is assigned to a as shown below"
   ]
  },
  {
   "cell_type": "code",
   "execution_count": 21,
   "id": "f634a4dc",
   "metadata": {},
   "outputs": [
    {
     "data": {
      "text/plain": [
       "22"
      ]
     },
     "execution_count": 21,
     "metadata": {},
     "output_type": "execute_result"
    }
   ],
   "source": [
    "check(66,12)\n",
    "#here c=66 but we are reassigning the value of c as 10"
   ]
  },
  {
   "cell_type": "code",
   "execution_count": null,
   "id": "e09c8fc3",
   "metadata": {},
   "outputs": [],
   "source": [
    "10. What is the data type of None?"
   ]
  },
  {
   "cell_type": "code",
   "execution_count": null,
   "id": "38dea410",
   "metadata": {},
   "outputs": [],
   "source": [
    "ANS:\n",
    "The None keyword is used to define a null value, or no value at all. None is not the same as 0, False, \n",
    "or an empty string. None is a data type of its own (NoneType) and only None can be None.\n",
    "# print is the None data type"
   ]
  },
  {
   "cell_type": "code",
   "execution_count": 22,
   "id": "0d6dd4f3",
   "metadata": {},
   "outputs": [
    {
     "name": "stdout",
     "output_type": "stream",
     "text": [
      "check the datatype\n"
     ]
    },
    {
     "data": {
      "text/plain": [
       "NoneType"
      ]
     },
     "execution_count": 22,
     "metadata": {},
     "output_type": "execute_result"
    }
   ],
   "source": [
    "type(print(\"check the datatype\"))"
   ]
  },
  {
   "cell_type": "code",
   "execution_count": null,
   "id": "4ea7f8d9",
   "metadata": {},
   "outputs": [],
   "source": [
    "11. What does the sentence import areallyourpetsnamederic do?"
   ]
  },
  {
   "cell_type": "code",
   "execution_count": null,
   "id": "e5017157",
   "metadata": {},
   "outputs": [],
   "source": [
    "ANS:\n",
    "We will get an error.There is no module with this name is Python."
   ]
  },
  {
   "cell_type": "code",
   "execution_count": 25,
   "id": "f37d1561",
   "metadata": {},
   "outputs": [
    {
     "ename": "ModuleNotFoundError",
     "evalue": "No module named 'areallyourpetsnamederic'",
     "output_type": "error",
     "traceback": [
      "\u001b[1;31m---------------------------------------------------------------------------\u001b[0m",
      "\u001b[1;31mModuleNotFoundError\u001b[0m                       Traceback (most recent call last)",
      "\u001b[1;32m~\\AppData\\Local\\Temp/ipykernel_14316/51184242.py\u001b[0m in \u001b[0;36m<module>\u001b[1;34m\u001b[0m\n\u001b[1;32m----> 1\u001b[1;33m \u001b[1;32mimport\u001b[0m \u001b[0mareallyourpetsnamederic\u001b[0m\u001b[1;33m\u001b[0m\u001b[1;33m\u001b[0m\u001b[0m\n\u001b[0m",
      "\u001b[1;31mModuleNotFoundError\u001b[0m: No module named 'areallyourpetsnamederic'"
     ]
    }
   ],
   "source": [
    "import areallyourpetsnamederic"
   ]
  },
  {
   "cell_type": "code",
   "execution_count": null,
   "id": "725d6c7e",
   "metadata": {},
   "outputs": [],
   "source": [
    "12. If you had a bacon() feature in a spam module, what would you call it after importing spam?"
   ]
  },
  {
   "cell_type": "code",
   "execution_count": null,
   "id": "cdb52b56",
   "metadata": {},
   "outputs": [],
   "source": [
    "ANS:\n",
    "This function can be called with spam. bacon()."
   ]
  },
  {
   "cell_type": "code",
   "execution_count": null,
   "id": "883df08b",
   "metadata": {},
   "outputs": [],
   "source": [
    "13. What can you do to save a programme from crashing if it encounters an error?"
   ]
  },
  {
   "cell_type": "code",
   "execution_count": null,
   "id": "0dd5093f",
   "metadata": {},
   "outputs": [],
   "source": [
    "ANS:\n",
    "It is obvious to get an error in a Python program,the only way to encounter it is \n",
    "use try and except statement which are available in Python itself,which eliminates\n",
    "the error."
   ]
  },
  {
   "cell_type": "code",
   "execution_count": null,
   "id": "b6921805",
   "metadata": {},
   "outputs": [],
   "source": [
    "14. What is the purpose of the try clause? What is the purpose of the except clause?"
   ]
  },
  {
   "cell_type": "code",
   "execution_count": null,
   "id": "d73ccc84",
   "metadata": {},
   "outputs": [],
   "source": [
    "ANS:\n",
    "The try block is used to check some code for errors i.e the code inside the try \n",
    "block will execute when there is no error in the program. Whereas the code inside\n",
    "the except block will execute whenever the program encounters some error in the preceding try block."
   ]
  }
 ],
 "metadata": {
  "kernelspec": {
   "display_name": "Python 3 (ipykernel)",
   "language": "python",
   "name": "python3"
  },
  "language_info": {
   "codemirror_mode": {
    "name": "ipython",
    "version": 3
   },
   "file_extension": ".py",
   "mimetype": "text/x-python",
   "name": "python",
   "nbconvert_exporter": "python",
   "pygments_lexer": "ipython3",
   "version": "3.9.7"
  }
 },
 "nbformat": 4,
 "nbformat_minor": 5
}
