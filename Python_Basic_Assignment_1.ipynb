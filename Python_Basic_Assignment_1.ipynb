{
 "cells": [
  {
   "cell_type": "markdown",
   "id": "b2f89373",
   "metadata": {},
   "source": [
    "# Assignment 1\n"
   ]
  },
  {
   "cell_type": "code",
   "execution_count": null,
   "id": "694cebdd",
   "metadata": {},
   "outputs": [],
   "source": [
    "1. In the below elements which of them are values or an expression? eg:- values can be integer or string and expressions will be mathematical operators.\n",
    "* \n",
    "'hello'\n",
    "-87.8\n",
    "- \n",
    "/ \n",
    "+\t\n",
    "6 \n",
    "\n",
    "\n",
    "    "
   ]
  },
  {
   "cell_type": "code",
   "execution_count": null,
   "id": "fd94f375",
   "metadata": {},
   "outputs": [],
   "source": [
    "ANS:\n",
    "Values among the above are \"hello\",-87.8,6, and expression are -,/,+.\n",
    "    "
   ]
  },
  {
   "cell_type": "code",
   "execution_count": null,
   "id": "345e88be",
   "metadata": {},
   "outputs": [],
   "source": [
    "2. What is the difference between string and variable?"
   ]
  },
  {
   "cell_type": "code",
   "execution_count": null,
   "id": "d15542de",
   "metadata": {},
   "outputs": [],
   "source": [
    "ANS:\n",
    " String:\n",
    "1.The string consists a value within single quotes or double quotes or even triple quotes.\n",
    "2.Python strings are Immutable, and they cannot changed after they are created\n",
    "3.Python has a built in string class named str .\n",
    "Variable:\n",
    "1.The variables are the symbols which we can store data in our program\n",
    "2.The name of the variable always start with Alphabets Capital letters (A), small letters(a)  and an underscore( _ )\n",
    "3.It has two types of variables Local variable and global variable"
   ]
  },
  {
   "cell_type": "code",
   "execution_count": null,
   "id": "0b3ae6a1",
   "metadata": {},
   "outputs": [],
   "source": [
    "3. Describe three different data types."
   ]
  },
  {
   "cell_type": "code",
   "execution_count": null,
   "id": "b4f3b303",
   "metadata": {},
   "outputs": [],
   "source": [
    "ANS:\n",
    "Everything is an object in Python programming, data types are actually classes and variables are instance (object) \n",
    "of these classes. Every value in python has a datatype the different data types which describes as \n",
    "String, numbers and List\n",
    "\n",
    "1.String - The string consists a value within single quotes or double quotes or even triple quotes. \n",
    "This is an immutable data type, which cannot be modify nor change, it has a built in string class names str. \n",
    "We can use the type() function to know which class a variable or a value belongs to\n",
    "\n",
    "2.Numbers - This is an immutable data type, which cannot be modify nor change. \n",
    "In python numbers  includes integers, floating point numbers and complex numbers , \n",
    "they are defined as classes as  int, float and complex in python, We can use the type() function to know \n",
    "which class a variable or a value belongs to\n",
    "\n",
    "3.List - This is mutable data type, which can be modify or change. Lists are the group of values within [ ], \n",
    "it is one of the most used datatype in Python and is very flexible.\n",
    "All the items in a list do not need to be of the same type. We can use the slicing operator [ ] to extract\n",
    "an item or a range of items from a list. "
   ]
  },
  {
   "cell_type": "code",
   "execution_count": null,
   "id": "a8aeefa0",
   "metadata": {},
   "outputs": [],
   "source": [
    "4. What is an expression made up of? What do all expressions do"
   ]
  },
  {
   "cell_type": "code",
   "execution_count": null,
   "id": "19c46f58",
   "metadata": {},
   "outputs": [],
   "source": [
    "ANS:\n",
    "Expression is made up of values, containers, and mathematical operators (operands) e.g \n",
    "\n",
    "     a = 2 + 3     and expressions are used to evaluate the values or represent the result on the screen."
   ]
  },
  {
   "cell_type": "code",
   "execution_count": null,
   "id": "e075acfe",
   "metadata": {},
   "outputs": [],
   "source": [
    "5. This assignment statements, like spam = 10. What is the difference between an expression and a statement?"
   ]
  },
  {
   "cell_type": "code",
   "execution_count": null,
   "id": "1de35ed3",
   "metadata": {},
   "outputs": [],
   "source": [
    "ANS:\n",
    "An expression is a combination of values, variables, operators, and calls to functions. \n",
    "the statement is just like a command that a python interpreter executes like print"
   ]
  },
  {
   "cell_type": "code",
   "execution_count": 7,
   "id": "8e69d96f",
   "metadata": {},
   "outputs": [
    {
     "data": {
      "text/plain": [
       "23"
      ]
     },
     "execution_count": 7,
     "metadata": {},
     "output_type": "execute_result"
    }
   ],
   "source": [
    "6. After running the following code, what does the variable bacon contain?\n",
    "bacon = 22\n",
    "bacon + 1\n"
   ]
  },
  {
   "cell_type": "code",
   "execution_count": null,
   "id": "05f285a5",
   "metadata": {},
   "outputs": [],
   "source": [
    "The value of the above code is treated as bacon=bacon+1, where the bacon stores the value as 22 where 1 is an integer\n",
    "so the output is 23"
   ]
  },
  {
   "cell_type": "code",
   "execution_count": 8,
   "id": "dbff290c",
   "metadata": {},
   "outputs": [
    {
     "data": {
      "text/plain": [
       "'spamspamspam'"
      ]
     },
     "execution_count": 8,
     "metadata": {},
     "output_type": "execute_result"
    }
   ],
   "source": [
    "7. What should the values of the following two terms be?\n",
    "'spam' + 'spamspam'\n",
    "'spam' * 3\n"
   ]
  },
  {
   "cell_type": "code",
   "execution_count": null,
   "id": "03427ea2",
   "metadata": {},
   "outputs": [],
   "source": [
    "ANS:\n",
    "the following two terms are concatenation (spamspamspam)"
   ]
  },
  {
   "cell_type": "code",
   "execution_count": null,
   "id": "6710e4b6",
   "metadata": {},
   "outputs": [],
   "source": [
    "8. Why is eggs a valid variable name while 100 is invalid?"
   ]
  },
  {
   "cell_type": "code",
   "execution_count": null,
   "id": "512d9087",
   "metadata": {},
   "outputs": [],
   "source": [
    "ANS:\n",
    "eggs is the name of the variable to which any value can be assigned whereas 100 is the value\n",
    "which is to be assigned to a variable.\n",
    "So eggs is valid variable and 100 is invalid variable."
   ]
  },
  {
   "cell_type": "code",
   "execution_count": null,
   "id": "9848bfd5",
   "metadata": {},
   "outputs": [],
   "source": [
    "9. What three functions can be used to get the integer, floating-point number, or string version of a value?"
   ]
  },
  {
   "cell_type": "code",
   "execution_count": null,
   "id": "bc87659f",
   "metadata": {},
   "outputs": [],
   "source": [
    "ANS:\n",
    "the three functions that can be used to get the integer, floating number and string value are\n",
    "str(), int(), float() respectively.\n"
   ]
  },
  {
   "cell_type": "code",
   "execution_count": null,
   "id": "ccad9887",
   "metadata": {},
   "outputs": [],
   "source": [
    "10. Why does this expression cause an error? How can you fix it?\n",
    "'I have eaten ' + 99 + ' burritos.'\n"
   ]
  },
  {
   "cell_type": "code",
   "execution_count": null,
   "id": "604e73ca",
   "metadata": {},
   "outputs": [],
   "source": [
    "ANS:\n",
    "The above expression cannot be executed because in python we cannot concatenate string with an integer.\n",
    "if we want this to be executed then we have to do type casting either the string or the integer.\n"
   ]
  },
  {
   "cell_type": "code",
   "execution_count": null,
   "id": "93f43339",
   "metadata": {},
   "outputs": [],
   "source": []
  }
 ],
 "metadata": {
  "kernelspec": {
   "display_name": "Python 3 (ipykernel)",
   "language": "python",
   "name": "python3"
  },
  "language_info": {
   "codemirror_mode": {
    "name": "ipython",
    "version": 3
   },
   "file_extension": ".py",
   "mimetype": "text/x-python",
   "name": "python",
   "nbconvert_exporter": "python",
   "pygments_lexer": "ipython3",
   "version": "3.9.7"
  }
 },
 "nbformat": 4,
 "nbformat_minor": 5
}
