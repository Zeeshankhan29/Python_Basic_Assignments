{
 "cells": [
  {
   "cell_type": "code",
   "execution_count": null,
   "id": "edebcb21",
   "metadata": {},
   "outputs": [],
   "source": [
    "1.What are the two values of the Boolean data type? How do you write them?"
   ]
  },
  {
   "cell_type": "code",
   "execution_count": null,
   "id": "103a83fc",
   "metadata": {},
   "outputs": [],
   "source": [
    "ANS:\n",
    "The two values of the Boolean data type are TRUE and FALSE.A Boolean data type\n",
    "is declared using the bool keyword in Python which gives value as true when bool(1) \n",
    "and false when bool(0)"
   ]
  },
  {
   "cell_type": "code",
   "execution_count": null,
   "id": "66db34d2",
   "metadata": {},
   "outputs": [],
   "source": [
    "2. What are the three different types of Boolean operators?"
   ]
  },
  {
   "cell_type": "code",
   "execution_count": null,
   "id": "5bfaa644",
   "metadata": {},
   "outputs": [],
   "source": [
    "ANS:\n",
    "The three different types of Boolean operators are as follows,\n",
    "1.AND\n",
    "2.OR\n",
    "3.NOT\n"
   ]
  },
  {
   "cell_type": "code",
   "execution_count": null,
   "id": "d1331d11",
   "metadata": {},
   "outputs": [],
   "source": [
    "3.Make a list of each Boolean operator's truth tables\n",
    "(i.e. every possible combination of Boolean\n",
    "values for the operator and what it evaluate )."
   ]
  },
  {
   "cell_type": "code",
   "execution_count": null,
   "id": "d5f28a0a",
   "metadata": {},
   "outputs": [],
   "source": [
    "ANS:The truth tables for Boolean opeartor are,\n",
    "1.AND: It states that both the input values to be true,to get the output ar True.\n",
    "    TRUE  TRUE = TRUE \n",
    "    FALSE TRUE = FALSE\n",
    "    TRUE  FALSE= FALSE\n",
    "    FALSE FALSE= FALSE\n",
    "2.OR: It states that any one of the given two input to be true, to get the output ar True.\n",
    "    TRUE TRUE =  TRUE\n",
    "    TRUE FALSE=  TRUE\n",
    "    FALSE TRUE=  TRUE\n",
    "    FALSE FALSE= FALSE\n",
    "3.NOT:It states that the value is true if the given input is false and vice versa\n",
    "    TRUE = FALSE\n",
    "    FALSE= TRUE\n",
    "    \n",
    "\n"
   ]
  },
  {
   "cell_type": "code",
   "execution_count": null,
   "id": "0bab254d",
   "metadata": {},
   "outputs": [],
   "source": [
    "4. What are the values of the following expressions?"
   ]
  },
  {
   "cell_type": "markdown",
   "id": "a3d98001",
   "metadata": {},
   "source": [
    "ANS:\n",
    "(5 > 4) and (3 == 5) is FALSE\n",
    "not (5 > 4) is FALSE\n",
    "(5 > 4) or (3 == 5) is TRUE\n",
    "not ((5 > 4) or (3 == 5)) is FALSE\n",
    "(True and True) and (True == False) is FALSE\n",
    "(not False) or (not True) is TRUE\n"
   ]
  },
  {
   "cell_type": "code",
   "execution_count": null,
   "id": "04aa9169",
   "metadata": {},
   "outputs": [],
   "source": [
    "5. What are the six comparison operators?"
   ]
  },
  {
   "cell_type": "code",
   "execution_count": null,
   "id": "5c028011",
   "metadata": {},
   "outputs": [],
   "source": [
    "ANS:\n",
    "The six comparison operators in Python are\n",
    "1.less than(<)\n",
    "2.less than or equal to (<=)\n",
    "3.greater than (>)\n",
    "4.greater than or equal to (>=)\n",
    "5.Equal to(=)\n",
    "6.Not equal to (!=)"
   ]
  },
  {
   "cell_type": "code",
   "execution_count": null,
   "id": "1d60be4f",
   "metadata": {},
   "outputs": [],
   "source": [
    "6. How do you tell the difference between the equal to and assignment operators?Describe a\n",
    "condition and when you would use one."
   ]
  },
  {
   "cell_type": "code",
   "execution_count": null,
   "id": "6a9184f7",
   "metadata": {},
   "outputs": [],
   "source": [
    "ANS:\n",
    "The \"=\" is an assignment operator, which assigns the value to the variable that is to the left.\n",
    "e.g,  a=10, where a is the variable to which value 10 is assigned using the assignment operator.\n",
    "The \"==\" is an equal operator, which checks whether the two given operands are equal or not.\n",
    "e.g, a==b , checks whether a is equal to b, if yes then it gives the output as True.\n"
   ]
  },
  {
   "cell_type": "code",
   "execution_count": 22,
   "id": "8be86fa4",
   "metadata": {},
   "outputs": [
    {
     "data": {
      "text/plain": [
       "True"
      ]
     },
     "execution_count": 22,
     "metadata": {},
     "output_type": "execute_result"
    }
   ],
   "source": [
    "a=10\n",
    "b=10\n",
    "a==b"
   ]
  },
  {
   "cell_type": "code",
   "execution_count": null,
   "id": "c58b3a84",
   "metadata": {},
   "outputs": [],
   "source": [
    "7. Identify the three blocks in this code:"
   ]
  },
  {
   "cell_type": "code",
   "execution_count": 23,
   "id": "72a3a3f0",
   "metadata": {},
   "outputs": [
    {
     "name": "stdout",
     "output_type": "stream",
     "text": [
      "2\n",
      "ham\n",
      "spam\n",
      "spam\n"
     ]
    }
   ],
   "source": [
    "spam=int(input())\n",
    "if spam == 10:\n",
    "    print('eggs')\n",
    "elif spam >= 5 and spam <=10:\n",
    "    print('bacon')\n",
    "else:\n",
    "    print('ham')\n",
    "    print('spam')\n",
    "    print('spam')\n",
    "    "
   ]
  },
  {
   "cell_type": "code",
   "execution_count": null,
   "id": "00e49dbe",
   "metadata": {},
   "outputs": [],
   "source": [
    "8. Write code that prints Hello if 1 is stored in spam, prints Howdy if 2 is stored in spam, and prints\n",
    "Greetings! if anything else is stored in spam."
   ]
  },
  {
   "cell_type": "code",
   "execution_count": 3,
   "id": "40ab995a",
   "metadata": {},
   "outputs": [
    {
     "name": "stdout",
     "output_type": "stream",
     "text": [
      "6000\n",
      "Greetings\n"
     ]
    }
   ],
   "source": [
    "ANS:\n",
    "spam=int(input())\n",
    "if spam==1:\n",
    "    print(\"Hello\")\n",
    "elif spam==2:\n",
    "    print(\"Howdy\")\n",
    "else:\n",
    "    print(\"Greetings\")"
   ]
  },
  {
   "cell_type": "code",
   "execution_count": null,
   "id": "33355f1d",
   "metadata": {},
   "outputs": [],
   "source": [
    "9.If your programme is stuck in an endless loop, what keys you’ll press?"
   ]
  },
  {
   "cell_type": "code",
   "execution_count": null,
   "id": "7e52f5b8",
   "metadata": {},
   "outputs": [],
   "source": [
    "ANS:\n",
    "If that occur we can press Ctrl+C to escape it."
   ]
  },
  {
   "cell_type": "code",
   "execution_count": null,
   "id": "2d572b9e",
   "metadata": {},
   "outputs": [],
   "source": [
    "10. How can you tell the difference between break and continue?"
   ]
  },
  {
   "cell_type": "code",
   "execution_count": null,
   "id": "0ec05887",
   "metadata": {},
   "outputs": [],
   "source": [
    "ANS:\n",
    "1.Break statement is used to eliminate the loop immediately if the condition is satisfied.\n",
    "2.Continue statement is used to skip the iteration if the condition is satisfied.\n",
    "when we are working in python we may require to stop the loop entirely at that point of time \n",
    "we may use break statement, whereas in some cases we want the second iteration to be stop at that \n",
    "we can use continue statement."
   ]
  },
  {
   "cell_type": "code",
   "execution_count": null,
   "id": "341beb3f",
   "metadata": {},
   "outputs": [],
   "source": [
    "11. In a for loop, what is the difference between range(10), range(0, 10), and range(0, 10, 1)?"
   ]
  },
  {
   "cell_type": "code",
   "execution_count": 8,
   "id": "e32b4f8b",
   "metadata": {},
   "outputs": [
    {
     "name": "stdout",
     "output_type": "stream",
     "text": [
      "[0, 1, 2, 3, 4, 5, 6, 7, 8, 9]\n",
      "[0, 1, 2, 3, 4, 5, 6, 7, 8, 9]\n",
      "[0, 1, 2, 3, 4, 5, 6, 7, 8, 9]\n"
     ]
    }
   ],
   "source": [
    "#ANS:\n",
    "#here the range function is assigned to a variable \"a\",default the range function starts from zero\n",
    "a=range(10)\n",
    "print(list(a))\n",
    "\n",
    "#here the range funcion starts from zero and move till 10 excluding the last number (upper bound)\n",
    "b=range(0,10)\n",
    "print(list(b))\n",
    "\n",
    "#here range function starts from zero and move till 10 with a jump of 1.\n",
    "c=range(0,10,1)\n",
    "print(list(c))\n",
    "\n",
    "#All the three statement are same as executed below.\n"
   ]
  },
  {
   "cell_type": "code",
   "execution_count": null,
   "id": "35f620e8",
   "metadata": {},
   "outputs": [],
   "source": [
    "12. Write a short program that prints the numbers 1 to 10 using a for loop. Then write an equivalent\n",
    "program that prints the numbers 1 to 10 using a while loop."
   ]
  },
  {
   "cell_type": "code",
   "execution_count": 15,
   "id": "05930f80",
   "metadata": {},
   "outputs": [
    {
     "name": "stdout",
     "output_type": "stream",
     "text": [
      "0\n",
      "1\n",
      "2\n",
      "3\n",
      "4\n",
      "5\n",
      "6\n",
      "7\n",
      "8\n",
      "9\n",
      "10\n"
     ]
    }
   ],
   "source": [
    "#ANS:\n",
    "#printing the numbers using for loop\n",
    "for i in range(0,11,1):\n",
    "    print(i)\n",
    "\n",
    "\n",
    "    \n",
    " \n",
    "    \n",
    "\n"
   ]
  },
  {
   "cell_type": "code",
   "execution_count": 22,
   "id": "135a0861",
   "metadata": {},
   "outputs": [
    {
     "name": "stdout",
     "output_type": "stream",
     "text": [
      "0\n",
      "1\n",
      "2\n",
      "3\n",
      "4\n",
      "5\n",
      "6\n",
      "7\n",
      "8\n",
      "9\n",
      "10\n"
     ]
    }
   ],
   "source": [
    "#printing the numbers using while loop\n",
    "i=0\n",
    "while i<=11:\n",
    "    print(i)\n",
    "    i=i+1\n",
    "    if i==11:\n",
    "        break\n",
    "    "
   ]
  },
  {
   "cell_type": "code",
   "execution_count": null,
   "id": "605f0dee",
   "metadata": {},
   "outputs": [],
   "source": [
    "13. If you had a function named bacon() inside a module named spam, how would you call it after\n",
    "importing spam?\n"
   ]
  },
  {
   "cell_type": "code",
   "execution_count": null,
   "id": "81e5edec",
   "metadata": {},
   "outputs": [],
   "source": [
    "ANS:\n",
    "This function can be called using spam.bacon()"
   ]
  }
 ],
 "metadata": {
  "kernelspec": {
   "display_name": "Python 3 (ipykernel)",
   "language": "python",
   "name": "python3"
  },
  "language_info": {
   "codemirror_mode": {
    "name": "ipython",
    "version": 3
   },
   "file_extension": ".py",
   "mimetype": "text/x-python",
   "name": "python",
   "nbconvert_exporter": "python",
   "pygments_lexer": "ipython3",
   "version": "3.9.7"
  }
 },
 "nbformat": 4,
 "nbformat_minor": 5
}
