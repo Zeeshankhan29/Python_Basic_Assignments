{
 "cells": [
  {
   "cell_type": "code",
   "execution_count": null,
   "id": "489d8dd7",
   "metadata": {},
   "outputs": [],
   "source": [
    "1. What are escape characters, and how do you use them?"
   ]
  },
  {
   "cell_type": "code",
   "execution_count": 14,
   "id": "1def4218",
   "metadata": {},
   "outputs": [],
   "source": [
    "#ANS:\n",
    "The escape character is \\\" \\\" . It is used to add anything within the single,double or triple codes with\n",
    "inverted commas.as show below\n",
    "s=\"this is my first program of \\\"python\\\" in my life \"\n",
    "#Here the python is used within the double code using the escape character \\\" \\\"\n"
   ]
  },
  {
   "cell_type": "code",
   "execution_count": null,
   "id": "adebe013",
   "metadata": {},
   "outputs": [],
   "source": [
    "2. What do the escape characters n and t stand for?"
   ]
  },
  {
   "cell_type": "code",
   "execution_count": null,
   "id": "eb3de6f9",
   "metadata": {},
   "outputs": [],
   "source": [
    "#ANS:\n",
    "The escape character  \"\\t\" is a tab, \"\\n\" is a newline."
   ]
  },
  {
   "cell_type": "code",
   "execution_count": null,
   "id": "ad0c39cd",
   "metadata": {},
   "outputs": [],
   "source": [
    "3. What is the way to include backslash characters in a string?"
   ]
  },
  {
   "cell_type": "code",
   "execution_count": 55,
   "id": "4e380a37",
   "metadata": {},
   "outputs": [],
   "source": [
    "#ANS:\n",
    "#we can use escape character.\n",
    "s=\"this is the way to add backslash\\\\' \""
   ]
  },
  {
   "cell_type": "code",
   "execution_count": 56,
   "id": "933415e0",
   "metadata": {},
   "outputs": [
    {
     "data": {
      "text/plain": [
       "\"this is the way to add backslash\\\\' \""
      ]
     },
     "execution_count": 56,
     "metadata": {},
     "output_type": "execute_result"
    }
   ],
   "source": [
    "s"
   ]
  },
  {
   "cell_type": "code",
   "execution_count": null,
   "id": "5a9ba41e",
   "metadata": {},
   "outputs": [],
   "source": [
    "4. The string \"Howl's Moving Castle\" is a correct value. Why isn't the single quote character in the\n",
    "word Howl's not escaped a problem?"
   ]
  },
  {
   "cell_type": "code",
   "execution_count": null,
   "id": "e6d3a225",
   "metadata": {},
   "outputs": [],
   "source": [
    "#ANS:\n",
    "The reason why the word Howl's is not throwing us an error is because the we have enclosed the \n",
    "string within a double code."
   ]
  },
  {
   "cell_type": "code",
   "execution_count": 99,
   "id": "481dac44",
   "metadata": {},
   "outputs": [],
   "source": [
    "5. How do you write a string of newlines if you don't want to use the n character?"
   ]
  },
  {
   "cell_type": "code",
   "execution_count": 114,
   "id": "8fdeee60",
   "metadata": {},
   "outputs": [
    {
     "name": "stdout",
     "output_type": "stream",
     "text": [
      " Hello \n",
      " world\n"
     ]
    }
   ],
   "source": [
    "#we can simply use \\n within the string.\n",
    "print(\" Hello \\n world\")"
   ]
  },
  {
   "cell_type": "code",
   "execution_count": null,
   "id": "e9e7bde8",
   "metadata": {},
   "outputs": [],
   "source": [
    "6. What are the values of the given expressions?\n",
    "'Hello, world!'[1]\n",
    "'Hello, world!'[0:5]\n",
    "'Hello, world!'[:5]\n",
    "'Hello, world!'[3:]"
   ]
  },
  {
   "cell_type": "code",
   "execution_count": null,
   "id": "2c29b4d5",
   "metadata": {},
   "outputs": [],
   "source": [
    "#ANS:\n",
    "the values of the following expression would be is as follows.\n",
    "'Hello, world!'[1]  = 'e'\n",
    "'Hello, world!'[0:5]= 'Hello'\n",
    "'Hello, world!'[:5] = 'Hello'\n",
    "'Hello, world!'[3:] = 'lo, world!'\n"
   ]
  },
  {
   "cell_type": "code",
   "execution_count": null,
   "id": "6918afc6",
   "metadata": {},
   "outputs": [],
   "source": [
    "7. What are the values of the following expressions?\n",
    "'Hello'.upper()\n",
    "'Hello'.upper().isupper()\n",
    "'Hello'.upper().lower()\n"
   ]
  },
  {
   "cell_type": "code",
   "execution_count": null,
   "id": "2072f520",
   "metadata": {},
   "outputs": [],
   "source": [
    "#ANS:\n",
    "'Hello'.upper()            = 'HELLO'\n",
    "'Hello'.upper().isupper()  =  True\n",
    "'Hello'.upper().lower()    =  'hello'\n"
   ]
  },
  {
   "cell_type": "code",
   "execution_count": null,
   "id": "346678bd",
   "metadata": {},
   "outputs": [],
   "source": [
    "8. What are the values of the following expressions?\n",
    "'Remember, remember, the fifth of July.'.split()\n",
    "'-'.join('There can only one.'.split())"
   ]
  },
  {
   "cell_type": "code",
   "execution_count": null,
   "id": "a815467c",
   "metadata": {},
   "outputs": [],
   "source": [
    "#ANS:\n",
    "'Remember, remember, the fifth of July.'.split() = ['Remember,', 'remember,', 'the', 'fifth', 'of', 'July.']\n",
    "'-'.join('There can only one.'.split())          = 'There-can-only-one.'"
   ]
  },
  {
   "cell_type": "code",
   "execution_count": null,
   "id": "8a85b07a",
   "metadata": {},
   "outputs": [],
   "source": [
    "9. What are the methods for right-justifying, left-justifying, and centering a string?"
   ]
  },
  {
   "cell_type": "code",
   "execution_count": null,
   "id": "13692544",
   "metadata": {},
   "outputs": [],
   "source": [
    "#ANS:\n",
    "The methods are ljust(), rjust(), center() for right-justifying, left-justifying, and centering a string\n",
    "respectively."
   ]
  },
  {
   "cell_type": "code",
   "execution_count": null,
   "id": "520c71c9",
   "metadata": {},
   "outputs": [],
   "source": [
    "10. What is the best way to remove whitespace characters from the start or end?"
   ]
  },
  {
   "cell_type": "code",
   "execution_count": 155,
   "id": "1567d2bf",
   "metadata": {},
   "outputs": [],
   "source": [
    "#ANS:\n",
    "Trim() Removes all leading and trailing white-space characters from the current string."
   ]
  }
 ],
 "metadata": {
  "kernelspec": {
   "display_name": "Python 3 (ipykernel)",
   "language": "python",
   "name": "python3"
  },
  "language_info": {
   "codemirror_mode": {
    "name": "ipython",
    "version": 3
   },
   "file_extension": ".py",
   "mimetype": "text/x-python",
   "name": "python",
   "nbconvert_exporter": "python",
   "pygments_lexer": "ipython3",
   "version": "3.9.7"
  }
 },
 "nbformat": 4,
 "nbformat_minor": 5
}
