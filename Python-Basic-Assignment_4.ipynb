{
 "cells": [
  {
   "cell_type": "code",
   "execution_count": null,
   "id": "b66ad8c5",
   "metadata": {},
   "outputs": [],
   "source": [
    "1. What exactly is []?"
   ]
  },
  {
   "cell_type": "code",
   "execution_count": null,
   "id": "32683838",
   "metadata": {},
   "outputs": [],
   "source": [
    "ANS:\n",
    "[] is the square bracket which is to be enclosed for list seperated with comma with series of data\n",
    "l=[2,3,45,24,54,4]\n",
    "# Here l is the variable in which series of data in a list is assigned."
   ]
  },
  {
   "cell_type": "code",
   "execution_count": null,
   "id": "f830279d",
   "metadata": {},
   "outputs": [],
   "source": [
    "2. In a list of values stored in a variable called spam, how would you assign the value 'hello' as the\n",
    "third value? (Assume [2, 4, 6, 8, 10] are in spam.)"
   ]
  },
  {
   "cell_type": "code",
   "execution_count": 7,
   "id": "29c10b6d",
   "metadata": {},
   "outputs": [
    {
     "name": "stdout",
     "output_type": "stream",
     "text": [
      "[2, 4, 'hello', 8, 10]\n"
     ]
    }
   ],
   "source": [
    "#ANS:\n",
    "spam=[2,4,6,8,10]\n",
    "spam[2]=\"hello\"\n",
    "print(spam)\n",
    "#Here the third value 6 is replaced with the string value \"hello\" as shown below"
   ]
  },
  {
   "cell_type": "markdown",
   "id": "1837049a",
   "metadata": {},
   "source": [
    "# #Let's pretend the spam includes the list ['a', 'b', 'c', 'd'] for the next three queries."
   ]
  },
  {
   "cell_type": "code",
   "execution_count": null,
   "id": "310642df",
   "metadata": {},
   "outputs": [],
   "source": [
    "3. What is the value of spam[int(int('3' * 2) / 11)]?"
   ]
  },
  {
   "cell_type": "code",
   "execution_count": 18,
   "id": "c4799cbe",
   "metadata": {},
   "outputs": [
    {
     "name": "stdout",
     "output_type": "stream",
     "text": [
      "d\n"
     ]
    }
   ],
   "source": [
    "#ANS:\n",
    "spam=[\"a\",\"b\",\"c\",\"d\"]\n",
    "print(spam[int(int('3' * 2) / 11)])"
   ]
  },
  {
   "cell_type": "code",
   "execution_count": null,
   "id": "62a51f07",
   "metadata": {},
   "outputs": [],
   "source": [
    "4. What is the value of spam[-1]?"
   ]
  },
  {
   "cell_type": "code",
   "execution_count": 19,
   "id": "1a792706",
   "metadata": {},
   "outputs": [
    {
     "data": {
      "text/plain": [
       "'d'"
      ]
     },
     "execution_count": 19,
     "metadata": {},
     "output_type": "execute_result"
    }
   ],
   "source": [
    "#ANS:\n",
    "spam[-1]"
   ]
  },
  {
   "cell_type": "code",
   "execution_count": null,
   "id": "f24d67af",
   "metadata": {},
   "outputs": [],
   "source": [
    "5. What is the value of spam[:2]?"
   ]
  },
  {
   "cell_type": "code",
   "execution_count": 23,
   "id": "77a2abb1",
   "metadata": {},
   "outputs": [
    {
     "data": {
      "text/plain": [
       "['a', 'b']"
      ]
     },
     "execution_count": 23,
     "metadata": {},
     "output_type": "execute_result"
    }
   ],
   "source": [
    "#ANS:\n",
    "spam[:2]\n",
    "#Here the range function starts from \"0\" index to \"2\" index excluding the upper bound."
   ]
  },
  {
   "cell_type": "markdown",
   "id": "0fd30c68",
   "metadata": {},
   "source": [
    "# Let's pretend bacon has the list [3.14, 'cat',11, 'cat',True] for the next three questions.\n"
   ]
  },
  {
   "cell_type": "code",
   "execution_count": null,
   "id": "ad7ea5bc",
   "metadata": {},
   "outputs": [],
   "source": [
    "6. What is the value of bacon.index('cat')?"
   ]
  },
  {
   "cell_type": "code",
   "execution_count": 47,
   "id": "a17eb2c6",
   "metadata": {},
   "outputs": [
    {
     "name": "stdout",
     "output_type": "stream",
     "text": [
      "1\n",
      "0\n"
     ]
    }
   ],
   "source": [
    "#ANS:\n",
    "bacon=[3.14, 'cat', 11, 'cat', True]\n",
    "print(bacon.index('cat'))\n",
    "#The above expression gives the index value in a list as 1.\n",
    "\n",
    "#similarly \n",
    "l=[8,6,42,4,1,4,5]\n",
    "print(l.index(8))\n",
    "#The above gives the output as 0.\n"
   ]
  },
  {
   "cell_type": "code",
   "execution_count": null,
   "id": "0643db1b",
   "metadata": {},
   "outputs": [],
   "source": [
    "7. How does bacon.append(99) change the look of the list value in bacon?"
   ]
  },
  {
   "cell_type": "code",
   "execution_count": 48,
   "id": "67a08eed",
   "metadata": {},
   "outputs": [
    {
     "name": "stdout",
     "output_type": "stream",
     "text": [
      "[3.14, 'cat', 11, 'cat', True, 99]\n"
     ]
    }
   ],
   "source": [
    "#ANS:\n",
    "bacon.append(99)\n",
    "print(bacon)\n",
    "#append operation appends the value \"99\" at the end of the list bacon"
   ]
  },
  {
   "cell_type": "code",
   "execution_count": null,
   "id": "92cb9af6",
   "metadata": {},
   "outputs": [],
   "source": [
    "8. How does bacon.remove('cat') change the look of the list in bacon?"
   ]
  },
  {
   "cell_type": "code",
   "execution_count": 49,
   "id": "df4c17a5",
   "metadata": {},
   "outputs": [
    {
     "name": "stdout",
     "output_type": "stream",
     "text": [
      "[3.14, 11, 'cat', True, 99]\n"
     ]
    }
   ],
   "source": [
    "#ANS:\n",
    "bacon.remove(\"cat\")\n",
    "# The above operation removes one  the value \"cat\" from the list eventhough it has two same values.\n",
    "print(bacon)"
   ]
  },
  {
   "cell_type": "code",
   "execution_count": null,
   "id": "a49b301f",
   "metadata": {},
   "outputs": [],
   "source": [
    "9. What are the list concatenation and list replication operators?"
   ]
  },
  {
   "cell_type": "code",
   "execution_count": null,
   "id": "f312351e",
   "metadata": {},
   "outputs": [],
   "source": [
    "ANS:\n",
    "The operator for list concatenation is \"+\",whereas for list replication is \"*\"\n"
   ]
  },
  {
   "cell_type": "code",
   "execution_count": null,
   "id": "4f2f08b0",
   "metadata": {},
   "outputs": [],
   "source": [
    "10. What is difference between the list methods append() and insert()?"
   ]
  },
  {
   "cell_type": "code",
   "execution_count": 9,
   "id": "4e9baa11",
   "metadata": {},
   "outputs": [
    {
     "name": "stdout",
     "output_type": "stream",
     "text": [
      "[2, 6, 63, 46, 7, 64, 24, 9, 5]\n",
      "[2, 6, 63, 46, 7, 64, 24, 9, 5, 45]\n"
     ]
    }
   ],
   "source": [
    "#ANS:\n",
    "l=[2,63,46,7,64,24,9,5]\n",
    "l.insert(1,6)\n",
    "print(l)\n",
    "# Here we have used the insert operation on the list l,in which the value \"6\"is extended at index 1 \n",
    "##without altering the other values in a list.\n",
    "\n",
    "l.append(45)\n",
    "print(l)\n",
    "# Here the value \"45\" is just gets added up at the end of the list l.\n"
   ]
  },
  {
   "cell_type": "code",
   "execution_count": null,
   "id": "55ab53fe",
   "metadata": {},
   "outputs": [],
   "source": [
    "11. What are the two methods for removing items from a list?"
   ]
  },
  {
   "cell_type": "code",
   "execution_count": 20,
   "id": "7c9d3fba",
   "metadata": {},
   "outputs": [
    {
     "name": "stdout",
     "output_type": "stream",
     "text": [
      "[1, 2, 3, 4, 64, 8, 7, 56]\n",
      "[1, 2, 3, 4, 8, 7, 56]\n",
      "[]\n"
     ]
    }
   ],
   "source": [
    "#ANS:\n",
    "#The methods are clear(),pop(),remove().\n",
    "l=[1,2,3,4,64,8,7,5,56]\n",
    "l.pop(-2)\n",
    "print(l)\n",
    "# Here the pop() operation removes the value \"5\" available at -2 index.default will be the last value of a list.\n",
    "l.remove(64)\n",
    "print(l)\n",
    "# Here the remove() operation removes the value \"64\" directly from the list l.\n",
    "l.clear()\n",
    "print(l)\n",
    "# Here the clear() operation clears all the elements from the list l.\n"
   ]
  },
  {
   "cell_type": "code",
   "execution_count": null,
   "id": "a5b25a8d",
   "metadata": {},
   "outputs": [],
   "source": [
    "12. Describe how list values and string values are identical."
   ]
  },
  {
   "cell_type": "code",
   "execution_count": null,
   "id": "98bbf36e",
   "metadata": {},
   "outputs": [],
   "source": [
    "#ANS:\n",
    "The similarity between Lists and Strings in Python is that both are sequences. \n",
    "The differences between them are that firstly, Lists are mutable but Strings are immutable. \n",
    "Secondly, elements of a list can be of different types whereas as String only contains characters \n",
    "that are all of String type."
   ]
  },
  {
   "cell_type": "code",
   "execution_count": 26,
   "id": "1e3b6b89",
   "metadata": {},
   "outputs": [
    {
     "name": "stdout",
     "output_type": "stream",
     "text": [
      "t\n",
      "e\n",
      "s\n",
      "t\n",
      "1\n",
      "t\n",
      "e\n",
      "s\n",
      "t\n",
      "1\n"
     ]
    }
   ],
   "source": [
    "l=[\"t\",\"e\",'s',\"t\",\"1\"]\n",
    "for i in l:\n",
    "    print(i)\n",
    "\n",
    "n=\"test1\"\n",
    "for i in n:\n",
    "    print(i)\n",
    "\n",
    "# Here we have the same output acheived from the list and from the string which tells us that they are identical."
   ]
  },
  {
   "cell_type": "code",
   "execution_count": null,
   "id": "a7208835",
   "metadata": {},
   "outputs": [],
   "source": [
    "13. What Is the difference between tuples and lists?"
   ]
  },
  {
   "cell_type": "code",
   "execution_count": null,
   "id": "394a1037",
   "metadata": {},
   "outputs": [],
   "source": [
    "ANS:\n",
    "1.Tuples are the sequences of immutable values enclosed within parenthesis,which cannot be altered once they are created\n",
    "2.Lists are the sequences of mutable values enclosed within [],which can be modified once they are defined.\n"
   ]
  },
  {
   "cell_type": "code",
   "execution_count": 35,
   "id": "bee654a5",
   "metadata": {},
   "outputs": [
    {
     "name": "stdout",
     "output_type": "stream",
     "text": [
      "[6, 2, 34, 5, 4, 5, 6]\n",
      "[5652, 2, 34, 5, 4, 5, 6]\n",
      "(6, 31, 31, 5)\n"
     ]
    },
    {
     "ename": "TypeError",
     "evalue": "'tuple' object does not support item assignment",
     "output_type": "error",
     "traceback": [
      "\u001b[1;31m---------------------------------------------------------------------------\u001b[0m",
      "\u001b[1;31mTypeError\u001b[0m                                 Traceback (most recent call last)",
      "\u001b[1;32m~\\AppData\\Local\\Temp/ipykernel_18468/2677378101.py\u001b[0m in \u001b[0;36m<module>\u001b[1;34m\u001b[0m\n\u001b[0;32m      9\u001b[0m \u001b[0ml2\u001b[0m\u001b[1;33m=\u001b[0m\u001b[1;33m(\u001b[0m\u001b[1;36m6\u001b[0m\u001b[1;33m,\u001b[0m\u001b[1;36m31\u001b[0m\u001b[1;33m,\u001b[0m\u001b[1;36m31\u001b[0m\u001b[1;33m,\u001b[0m\u001b[1;36m5\u001b[0m\u001b[1;33m)\u001b[0m\u001b[1;33m\u001b[0m\u001b[1;33m\u001b[0m\u001b[0m\n\u001b[0;32m     10\u001b[0m \u001b[0mprint\u001b[0m\u001b[1;33m(\u001b[0m\u001b[0ml2\u001b[0m\u001b[1;33m)\u001b[0m\u001b[1;33m\u001b[0m\u001b[1;33m\u001b[0m\u001b[0m\n\u001b[1;32m---> 11\u001b[1;33m \u001b[0ml2\u001b[0m\u001b[1;33m[\u001b[0m\u001b[1;36m0\u001b[0m\u001b[1;33m]\u001b[0m\u001b[1;33m=\u001b[0m\u001b[1;36m36\u001b[0m\u001b[1;33m\u001b[0m\u001b[1;33m\u001b[0m\u001b[0m\n\u001b[0m\u001b[0;32m     12\u001b[0m \u001b[0mprint\u001b[0m\u001b[1;33m(\u001b[0m\u001b[0ml2\u001b[0m\u001b[1;33m)\u001b[0m\u001b[1;33m\u001b[0m\u001b[1;33m\u001b[0m\u001b[0m\n",
      "\u001b[1;31mTypeError\u001b[0m: 'tuple' object does not support item assignment"
     ]
    }
   ],
   "source": [
    "#list and tuples differnces.\n",
    "#Here the list is modified \n",
    "l1=[6,2,34,5,4,5,6]\n",
    "print(l1)\n",
    "l1[0]=5652\n",
    "print(l1)\n",
    "\n",
    "# Here tuples cannot be modified \n",
    "l2=(6,31,31,5)\n",
    "print(l2)\n",
    "l2[0]=36\n",
    "print(l2)\n"
   ]
  },
  {
   "cell_type": "code",
   "execution_count": null,
   "id": "458dda66",
   "metadata": {},
   "outputs": [],
   "source": [
    "14. How do you type a tuple value that only contains the integer 42?"
   ]
  },
  {
   "cell_type": "code",
   "execution_count": 38,
   "id": "a23ad41d",
   "metadata": {},
   "outputs": [],
   "source": [
    "#ANS:\n",
    "The trailing comma is mandatory.(42,).otherwise it will be of int datatype.\n",
    "#consider the below examples"
   ]
  },
  {
   "cell_type": "code",
   "execution_count": 43,
   "id": "93e4a60e",
   "metadata": {},
   "outputs": [
    {
     "data": {
      "text/plain": [
       "int"
      ]
     },
     "execution_count": 43,
     "metadata": {},
     "output_type": "execute_result"
    }
   ],
   "source": [
    "l3=(42)\n",
    "type(l3)"
   ]
  },
  {
   "cell_type": "code",
   "execution_count": 44,
   "id": "b1945af8",
   "metadata": {},
   "outputs": [
    {
     "data": {
      "text/plain": [
       "tuple"
      ]
     },
     "execution_count": 44,
     "metadata": {},
     "output_type": "execute_result"
    }
   ],
   "source": [
    "l3=(42,)\n",
    "type(l3)"
   ]
  },
  {
   "cell_type": "code",
   "execution_count": null,
   "id": "8523b8de",
   "metadata": {},
   "outputs": [],
   "source": [
    "15. How do you get a list value is tuple form? How do you get a tuple value is list form?"
   ]
  },
  {
   "cell_type": "code",
   "execution_count": 32,
   "id": "c8aff377",
   "metadata": {},
   "outputs": [
    {
     "name": "stdout",
     "output_type": "stream",
     "text": [
      "[(28,), ('test1',), ('test2',), (42,)]\n",
      "[[28], ['test1'], ['test2'], [42]]\n"
     ]
    }
   ],
   "source": [
    "#ANS:\n",
    "l=[[28],[\"test1\"],[\"test2\"],[42]]\n",
    "a=list(map(tuple,l))\n",
    "print(a)\n",
    "#we can use the map function to convert list to tuple.\n",
    "\n",
    "l1=((28,),(\"test1\",),(\"test2\",),(42,))\n",
    "b=list(map(list,l1))\n",
    "print(b)\n",
    "#we can use the map function to convert list to tuple."
   ]
  },
  {
   "cell_type": "code",
   "execution_count": null,
   "id": "16635da0",
   "metadata": {},
   "outputs": [],
   "source": [
    "16. Variables that \"contain\" list values are not necessarily lists themselves. Instead, what do they\n",
    "contain?"
   ]
  },
  {
   "cell_type": "code",
   "execution_count": null,
   "id": "d7623cc3",
   "metadata": {},
   "outputs": [],
   "source": [
    "ANS:\n",
    "The most common way to declare a list in Python is to use square brackets.\n",
    "A list is a data structure in Python that contains an ordered sequence of zero or more elements. \n",
    "Lists in Python are mutable, which means they can be changed. They can contain any type of data, \n",
    "like a string or a dictionary.\n"
   ]
  }
 ],
 "metadata": {
  "kernelspec": {
   "display_name": "Python 3 (ipykernel)",
   "language": "python",
   "name": "python3"
  },
  "language_info": {
   "codemirror_mode": {
    "name": "ipython",
    "version": 3
   },
   "file_extension": ".py",
   "mimetype": "text/x-python",
   "name": "python",
   "nbconvert_exporter": "python",
   "pygments_lexer": "ipython3",
   "version": "3.9.7"
  }
 },
 "nbformat": 4,
 "nbformat_minor": 5
}
